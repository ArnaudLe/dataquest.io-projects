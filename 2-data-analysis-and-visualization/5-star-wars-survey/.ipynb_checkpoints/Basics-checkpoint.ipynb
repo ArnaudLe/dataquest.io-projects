{
 "cells": [
  {
   "cell_type": "markdown",
   "metadata": {},
   "source": [
    "# Introduction"
   ]
  },
  {
   "cell_type": "code",
   "execution_count": 15,
   "metadata": {
    "collapsed": false,
    "scrolled": true
   },
   "outputs": [
    {
     "name": "stdout",
     "output_type": "stream",
     "text": [
      "{'Household Income', 'Unnamed: 10', 'Unnamed: 20', 'Do you consider yourself to be a fan of the Star Trek franchise?', 'Unnamed: 28', 'Please rank the Star Wars films in order of preference with 1 being your favorite film in the franchise and 6 being your least favorite film.', 'Unnamed: 4', 'Unnamed: 17', 'Unnamed: 24', 'Unnamed: 8', 'Unnamed: 26', 'Unnamed: 27', 'Unnamed: 19', 'Have you seen any of the 6 films in the Star Wars franchise?', 'Unnamed: 6', 'Unnamed: 21', 'Unnamed: 12', 'Gender', 'Do you consider yourself to be a fan of the Expanded Universe?Â\\x8cÃ¦', 'RespondentID', 'Are you familiar with the Expanded Universe?', 'Age', 'Unnamed: 18', 'Unnamed: 13', 'Unnamed: 11', 'Education', 'Location (Census Region)', 'Please state whether you view the following characters favorably, unfavorably, or are unfamiliar with him/her.', 'Unnamed: 7', 'Unnamed: 16', 'Unnamed: 5', 'Unnamed: 25', 'Unnamed: 14', 'Do you consider yourself to be a fan of the Star Wars film franchise?', 'Which character shot first?', 'Which of the following Star Wars films have you seen? Please select all that apply.', 'Unnamed: 22', 'Unnamed: 23'}\n",
      "(1187, 38)\n",
      "(1186, 38)\n"
     ]
    }
   ],
   "source": [
    "import pandas as pd\n",
    "\n",
    "# Read csv file\n",
    "star_wars = pd.read_csv(\"star_wars.csv\", encoding=\"ISO-8859-1\")\n",
    "\n",
    "# Some genreal info\n",
    "star_wars.head(10)\n",
    "cols = star_wars.columns\n",
    "print(star_wars.shape)\n",
    "\n",
    "# Remove rows where RespondentID == NaN\n",
    "star_wars = star_wars[star_wars[\"RespondentID\"].notnull()]\n",
    "print(star_wars.shape)"
   ]
  },
  {
   "cell_type": "code",
   "execution_count": null,
   "metadata": {
    "collapsed": true
   },
   "outputs": [],
   "source": []
  }
 ],
 "metadata": {
  "kernelspec": {
   "display_name": "Python 3",
   "language": "python",
   "name": "python3"
  },
  "language_info": {
   "codemirror_mode": {
    "name": "ipython",
    "version": 3
   },
   "file_extension": ".py",
   "mimetype": "text/x-python",
   "name": "python",
   "nbconvert_exporter": "python",
   "pygments_lexer": "ipython3",
   "version": "3.4.3"
  }
 },
 "nbformat": 4,
 "nbformat_minor": 0
}
